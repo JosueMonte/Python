{
 "cells": [
  {
   "cell_type": "markdown",
   "metadata": {},
   "source": [
    "## FUNCIONES"
   ]
  },
  {
   "cell_type": "code",
   "execution_count": 12,
   "metadata": {},
   "outputs": [
    {
     "name": "stdout",
     "output_type": "stream",
     "text": [
      "El valor de la variable es Impreso\n"
     ]
    }
   ],
   "source": [
    ">>> def imprimir_valor_variable(var):\n",
    ">>>     print('El valor de la variable es' + str(var))\n",
    "\n",
    "imprimir_valor_variable(' Impreso')"
   ]
  },
  {
   "cell_type": "code",
   "execution_count": 15,
   "metadata": {},
   "outputs": [
    {
     "data": {
      "text/plain": [
       "(10, 20)"
      ]
     },
     "execution_count": 15,
     "metadata": {},
     "output_type": "execute_result"
    }
   ],
   "source": [
    "def ordenar_numeros(num1,num2):\n",
    "    if num1<num2:\n",
    "        return num1,num2\n",
    "    else:\n",
    "        return num2,num1\n",
    "    \n",
    "ordenar_numeros(10,20)"
   ]
  },
  {
   "cell_type": "code",
   "execution_count": 22,
   "metadata": {},
   "outputs": [
    {
     "name": "stdout",
     "output_type": "stream",
     "text": [
      "El cociente es: 5.0\n",
      "El divisor es: 5\n"
     ]
    }
   ],
   "source": [
    "divisor=5\n",
    "def cociente(dividendo,divisor=1):\n",
    "    if divisor==0:\n",
    "        return 'No se puede dividir por 0'\n",
    "    else:\n",
    "        return dividendo/divisor\n",
    "    \n",
    "print('El cociente es:',cociente(10,2))\n",
    "print('El divisor es:',divisor)\n",
    "    "
   ]
  },
  {
   "cell_type": "code",
   "execution_count": 46,
   "metadata": {},
   "outputs": [
    {
     "name": "stdout",
     "output_type": "stream",
     "text": [
      "Help on function cociente in module __main__:\n",
      "\n",
      "cociente(dividendo, divisor=1)\n",
      "\n"
     ]
    }
   ],
   "source": [
    "help(cociente)"
   ]
  },
  {
   "cell_type": "markdown",
   "metadata": {},
   "source": [
    "## RECURSIVIDAD"
   ]
  },
  {
   "cell_type": "code",
   "execution_count": 39,
   "metadata": {},
   "outputs": [
    {
     "data": {
      "text/plain": [
       "2"
      ]
     },
     "execution_count": 39,
     "metadata": {},
     "output_type": "execute_result"
    }
   ],
   "source": [
    "def factorial(n):\n",
    "    if type(n)!=int:\n",
    "        return 'El factorial es solo de números enteros'\n",
    "    if n<0:\n",
    "        return 'El factorial es de un numero positivo'\n",
    "    if n==0:\n",
    "        return 1\n",
    "    if n>1:\n",
    "        n=n*factorial(n-1)\n",
    "    return n\n",
    "\n",
    "factorial(2)"
   ]
  },
  {
   "cell_type": "code",
   "execution_count": 50,
   "metadata": {},
   "outputs": [
    {
     "data": {
      "text/plain": [
       "6"
      ]
     },
     "execution_count": 50,
     "metadata": {},
     "output_type": "execute_result"
    }
   ],
   "source": [
    ">>> def factorial(numero):\n",
    ">>>     '''\n",
    ">>>     Devuelve el factorial\n",
    ">>>     '''\n",
    ">>>     if (numero > 1):\n",
    ">>>         numero = numero * factorial(numero - 1)\n",
    ">>>     return numero\n",
    ">>> factorial(3)\n"
   ]
  },
  {
   "cell_type": "code",
   "execution_count": 51,
   "metadata": {},
   "outputs": [
    {
     "name": "stdout",
     "output_type": "stream",
     "text": [
      "Help on function factorial in module __main__:\n",
      "\n",
      "factorial(numero)\n",
      "    Devuelve el factorial\n",
      "\n"
     ]
    }
   ],
   "source": [
    ">>> help(factorial)"
   ]
  },
  {
   "cell_type": "markdown",
   "metadata": {},
   "source": [
    "## PASAJE DE PARÁMETROS POR VALOR Y REFERENCIA"
   ]
  },
  {
   "cell_type": "code",
   "execution_count": 63,
   "metadata": {},
   "outputs": [
    {
     "name": "stdout",
     "output_type": "stream",
     "text": [
      "1539705602576\n",
      "140712514258936\n",
      "10\n"
     ]
    }
   ],
   "source": [
    ">>> x = 10\n",
    "print(id(x))\n",
    ">>> def funcion(entrada):\n",
    ">>>     entrada = 0 ## Aunque la entrada se modifique a 0, x sigue siendo 10\n",
    "print(id(funcion(x)))\n",
    ">>> funcion(x)\n",
    ">>> print(x)"
   ]
  },
  {
   "cell_type": "code",
   "execution_count": 56,
   "metadata": {},
   "outputs": [
    {
     "name": "stdout",
     "output_type": "stream",
     "text": [
      "1537639369984\n",
      "1537639369984\n",
      "[10, 20, 30, 40]\n"
     ]
    }
   ],
   "source": [
    ">>> x = [10, 20, 30]\n",
    "print(id(x))\n",
    ">>> def funcion(entrada):\n",
    ">>>     entrada.append(40) ## Pasaje por referencia porque type(x)=list\n",
    ">>> \n",
    ">>> funcion(x)\n",
    "print(id(x))\n",
    ">>> print(x)\n"
   ]
  },
  {
   "cell_type": "code",
   "execution_count": 73,
   "metadata": {},
   "outputs": [
    {
     "name": "stdout",
     "output_type": "stream",
     "text": [
      "1537662483840\n",
      "1537663157248\n",
      "[10, 20, 30]\n",
      "[10, 20, 30, 40]\n"
     ]
    }
   ],
   "source": [
    "x = [10, 20, 30]\n",
    "print(id(x))\n",
    "entrada=x.copy() ## Pasaje por valor porque añado copy()\n",
    "print(id(entrada))\n",
    "entrada.append(40) \n",
    "print(x)\n",
    "print(entrada)"
   ]
  },
  {
   "cell_type": "code",
   "execution_count": 65,
   "metadata": {},
   "outputs": [
    {
     "name": "stdout",
     "output_type": "stream",
     "text": [
      "[10, 20, 30]\n",
      "[10, 20, 30, 40]\n"
     ]
    }
   ],
   "source": [
    "x=[10,20,30]\n",
    "y=x.copy()\n",
    "y.append(40)\n",
    "print(x)\n",
    "print(y)"
   ]
  },
  {
   "cell_type": "markdown",
   "metadata": {},
   "source": [
    "## FUNCIONES LAMBDA"
   ]
  },
  {
   "cell_type": "code",
   "execution_count": 78,
   "metadata": {},
   "outputs": [
    {
     "data": {
      "text/plain": [
       "81"
      ]
     },
     "execution_count": 78,
     "metadata": {},
     "output_type": "execute_result"
    }
   ],
   "source": [
    ">>> lambda_producto = lambda x,y: x**y\n",
    ">>> lambda_producto(3,4)"
   ]
  }
 ],
 "metadata": {
  "kernelspec": {
   "display_name": "Python 3",
   "language": "python",
   "name": "python3"
  },
  "language_info": {
   "codemirror_mode": {
    "name": "ipython",
    "version": 3
   },
   "file_extension": ".py",
   "mimetype": "text/x-python",
   "name": "python",
   "nbconvert_exporter": "python",
   "pygments_lexer": "ipython3",
   "version": "3.10.0"
  }
 },
 "nbformat": 4,
 "nbformat_minor": 2
}
