{
 "cells": [
  {
   "cell_type": "markdown",
   "metadata": {},
   "source": [
    "## ITERABLES"
   ]
  },
  {
   "cell_type": "code",
   "execution_count": 20,
   "metadata": {},
   "outputs": [
    {
     "name": "stdout",
     "output_type": "stream",
     "text": [
      "5\n",
      "4\n",
      "9\n",
      "2\n"
     ]
    }
   ],
   "source": [
    "lista=[5,4,9,2]\n",
    "i=0\n",
    "while i<len(lista):\n",
    "    elemento=lista[i]\n",
    "    print(elemento)\n",
    "    i+=1"
   ]
  },
  {
   "cell_type": "code",
   "execution_count": 4,
   "metadata": {},
   "outputs": [
    {
     "name": "stdout",
     "output_type": "stream",
     "text": [
      "5\n",
      "4\n",
      "9\n",
      "2\n"
     ]
    }
   ],
   "source": [
    "lista=[5,4,9,2]\n",
    "i=0\n",
    "while i<len(lista):\n",
    "    print(lista[i])\n",
    "    i+=1"
   ]
  },
  {
   "cell_type": "code",
   "execution_count": 6,
   "metadata": {},
   "outputs": [
    {
     "name": "stdout",
     "output_type": "stream",
     "text": [
      "5\n",
      "4\n",
      "9\n",
      "2\n"
     ]
    }
   ],
   "source": [
    "lista=[5,4,9,2]\n",
    "for i in lista:\n",
    "    print(i)"
   ]
  },
  {
   "cell_type": "code",
   "execution_count": 18,
   "metadata": {},
   "outputs": [
    {
     "name": "stdout",
     "output_type": "stream",
     "text": [
      "H\n",
      "o\n",
      "l\n",
      "a\n"
     ]
    }
   ],
   "source": [
    ">>> cadena = \"Hola\"\n",
    ">>> for c in cadena:\n",
    ">>>     print(c)"
   ]
  },
  {
   "cell_type": "code",
   "execution_count": 14,
   "metadata": {},
   "outputs": [
    {
     "name": "stdout",
     "output_type": "stream",
     "text": [
      "0 H\n",
      "1 o\n",
      "2 l\n",
      "3 a\n"
     ]
    }
   ],
   "source": [
    ">>> cadena = \"Hola\"\n",
    ">>> for i,c in enumerate(cadena):\n",
    ">>>   print(i,c)"
   ]
  },
  {
   "cell_type": "code",
   "execution_count": 31,
   "metadata": {},
   "outputs": [
    {
     "ename": "ModuleNotFoundError",
     "evalue": "No module named 'collection'",
     "output_type": "error",
     "traceback": [
      "\u001b[1;31m---------------------------------------------------------------------------\u001b[0m",
      "\u001b[1;31mModuleNotFoundError\u001b[0m                       Traceback (most recent call last)",
      "\u001b[1;32mc:\\Users\\Roxan\\OneDrive\\Data Scientist\\Henry\\Modulo 6\\Iterables_Iteradores.ipynb Cell 7\u001b[0m line \u001b[0;36m1\n\u001b[1;32m----> <a href='vscode-notebook-cell:/c%3A/Users/Roxan/OneDrive/Data%20Scientist/Henry/Modulo%206/Iterables_Iteradores.ipynb#X12sZmlsZQ%3D%3D?line=0'>1</a>\u001b[0m \u001b[39mfrom\u001b[39;00m \u001b[39mcollection\u001b[39;00m \u001b[39mimport\u001b[39;00m Iterable\n\u001b[0;32m      <a href='vscode-notebook-cell:/c%3A/Users/Roxan/OneDrive/Data%20Scientist/Henry/Modulo%206/Iterables_Iteradores.ipynb#X12sZmlsZQ%3D%3D?line=1'>2</a>\u001b[0m cadena\u001b[39m=\u001b[39m\u001b[39m'\u001b[39m\u001b[39mHola\u001b[39m\u001b[39m'\u001b[39m\n\u001b[0;32m      <a href='vscode-notebook-cell:/c%3A/Users/Roxan/OneDrive/Data%20Scientist/Henry/Modulo%206/Iterables_Iteradores.ipynb#X12sZmlsZQ%3D%3D?line=2'>3</a>\u001b[0m \u001b[39misinstance\u001b[39m(cadena,Iterable)\n",
      "\u001b[1;31mModuleNotFoundError\u001b[0m: No module named 'collection'"
     ]
    }
   ],
   "source": [
    "from collection import Iterable\n",
    "cadena='Hola'\n",
    "isinstance(cadena,Iterable)"
   ]
  },
  {
   "cell_type": "code",
   "execution_count": 27,
   "metadata": {},
   "outputs": [
    {
     "name": "stdout",
     "output_type": "stream",
     "text": [
      "Hola\n",
      "3\n"
     ]
    }
   ],
   "source": [
    ">>> from collections import Iterable\n",
    ">>> cadena = \"Hola\"\n",
    ">>> numero = 3\n",
    ">>> print(\"cadena\", isinstance(cadena, Iterable))\n",
    ">>> print(\"numero\", isinstance(numero, Iterable))\n",
    "cadena True\n",
    "numero False"
   ]
  },
  {
   "cell_type": "code",
   "execution_count": 36,
   "metadata": {},
   "outputs": [
    {
     "data": {
      "text/plain": [
       "['H', 'o', 'l', 'a']"
      ]
     },
     "execution_count": 36,
     "metadata": {},
     "output_type": "execute_result"
    }
   ],
   "source": [
    "list(\"Hola\")\n"
   ]
  },
  {
   "cell_type": "code",
   "execution_count": 37,
   "metadata": {},
   "outputs": [
    {
     "data": {
      "text/plain": [
       "6"
      ]
     },
     "execution_count": 37,
     "metadata": {},
     "output_type": "execute_result"
    }
   ],
   "source": [
    "sum([1, 2, 3])"
   ]
  },
  {
   "cell_type": "code",
   "execution_count": 38,
   "metadata": {},
   "outputs": [
    {
     "name": "stdout",
     "output_type": "stream",
     "text": [
      "H-o-l-a\n"
     ]
    }
   ],
   "source": [
    "print(\"-\".join(\"Hola\"))"
   ]
  },
  {
   "cell_type": "code",
   "execution_count": 47,
   "metadata": {},
   "outputs": [
    {
     "name": "stdout",
     "output_type": "stream",
     "text": [
      "a\n",
      "b\n",
      "c\n"
     ]
    }
   ],
   "source": [
    ">>> mi_dict = {'a':1, 'b':2, 'c':3}\n",
    ">>> for i in mi_dict:\n",
    ">>>     print(i)"
   ]
  },
  {
   "cell_type": "code",
   "execution_count": 43,
   "metadata": {},
   "outputs": [
    {
     "data": {
      "text/plain": [
       "dict_keys(['a', 'b', 'c'])"
      ]
     },
     "execution_count": 43,
     "metadata": {},
     "output_type": "execute_result"
    }
   ],
   "source": [
    "mi_dict.keys()"
   ]
  },
  {
   "cell_type": "code",
   "execution_count": 44,
   "metadata": {},
   "outputs": [
    {
     "data": {
      "text/plain": [
       "dict_values([1, 2, 3])"
      ]
     },
     "execution_count": 44,
     "metadata": {},
     "output_type": "execute_result"
    }
   ],
   "source": [
    "mi_dict.values()"
   ]
  },
  {
   "cell_type": "markdown",
   "metadata": {},
   "source": [
    "## ITERADORES"
   ]
  },
  {
   "cell_type": "code",
   "execution_count": 60,
   "metadata": {},
   "outputs": [],
   "source": [
    ">>> libro = ['página1', 'página2', 'página3', 'página4','pagina5','pagina6']\n",
    ">>> marcapaginas = iter(libro)"
   ]
  },
  {
   "cell_type": "code",
   "execution_count": 68,
   "metadata": {},
   "outputs": [
    {
     "ename": "TypeError",
     "evalue": "next expected at least 1 argument, got 0",
     "output_type": "error",
     "traceback": [
      "\u001b[1;31m---------------------------------------------------------------------------\u001b[0m",
      "\u001b[1;31mTypeError\u001b[0m                                 Traceback (most recent call last)",
      "\u001b[1;32mc:\\Users\\Roxan\\OneDrive\\Data Scientist\\Henry\\Modulo 6\\Iterables_Iteradores.ipynb Cell 17\u001b[0m line \u001b[0;36m1\n\u001b[1;32m----> <a href='vscode-notebook-cell:/c%3A/Users/Roxan/OneDrive/Data%20Scientist/Henry/Modulo%206/Iterables_Iteradores.ipynb#X24sZmlsZQ%3D%3D?line=0'>1</a>\u001b[0m \u001b[39mnext\u001b[39;49m()\n",
      "\u001b[1;31mTypeError\u001b[0m: next expected at least 1 argument, got 0"
     ]
    }
   ],
   "source": [
    "next()\n"
   ]
  },
  {
   "cell_type": "code",
   "execution_count": 70,
   "metadata": {},
   "outputs": [
    {
     "data": {
      "text/plain": [
       "[(1, 'Uno'), (2, 'Dos')]"
      ]
     },
     "execution_count": 70,
     "metadata": {},
     "output_type": "execute_result"
    }
   ],
   "source": [
    ">>> a = [1, 2]\n",
    ">>> b = [\"Uno\", \"Dos\"]\n",
    ">>> c = zip(a, b)\n",
    ">>> type(c)\n",
    ">>> list(c)\n"
   ]
  },
  {
   "cell_type": "code",
   "execution_count": 72,
   "metadata": {},
   "outputs": [
    {
     "name": "stdout",
     "output_type": "stream",
     "text": [
      "['r', 'r', 'r', 'r']\n",
      "4\n"
     ]
    }
   ],
   "source": [
    ">>> frase = \"El perro de san roque no tiene rabo\"\n",
    ">>> erres = [i for i in frase if i == 'r']\n",
    ">>> print(erres)\n",
    "\n",
    ">>> print(len(erres))\n"
   ]
  }
 ],
 "metadata": {
  "kernelspec": {
   "display_name": "Python 3",
   "language": "python",
   "name": "python3"
  },
  "language_info": {
   "codemirror_mode": {
    "name": "ipython",
    "version": 3
   },
   "file_extension": ".py",
   "mimetype": "text/x-python",
   "name": "python",
   "nbconvert_exporter": "python",
   "pygments_lexer": "ipython3",
   "version": "3.10.0"
  }
 },
 "nbformat": 4,
 "nbformat_minor": 2
}
